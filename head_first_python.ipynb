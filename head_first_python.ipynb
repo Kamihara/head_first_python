{
 "cells": [
  {
   "cell_type": "code",
   "execution_count": 5,
   "metadata": {
    "collapsed": true
   },
   "outputs": [
    {
     "name": "stdout",
     "output_type": "stream",
     "text": [
      "分の値は奇数\n"
     ]
    }
   ],
   "source": [
    "from datetime import datetime\n",
    "\n",
    "odds = [ i for i in range(60) if i % 2 == 1]\n",
    "right_this_minute = datetime.today().minute\n",
    "\n",
    "if right_this_minute in odds:\n",
    "    print(\"分の値は奇数\")\n",
    "else:\n",
    "    print(\"分の値は奇数ではない\")\n"
   ]
  },
  {
   "cell_type": "code",
   "execution_count": 6,
   "metadata": {},
   "outputs": [
    {
     "data": {
      "text/plain": [
       "environ({'PATH': '/Users/a999-342/repo/head_first_python/venv/bin:/usr/bin:/bin:/usr/sbin:/sbin', 'PYTHONPATH': '/Users/a999-342/repo/head_first_python:/Applications/PyCharm.app/Contents/helpers/pycharm_matplotlib_backend', 'SHELL': '/usr/local/bin/zsh', 'PYTHONIOENCODING': 'UTF-8', 'SECURITYSESSIONID': '186a9', 'USER': 'a999-342', 'TMPDIR': '/var/folders/8g/lq55xyx900n_3mpb8jctb1lm0000gn/T/', 'PS1': '(venv) ', 'SSH_AUTH_SOCK': '/private/tmp/com.apple.launchd.jO2zSvlX4m/Listeners', 'VIRTUAL_ENV': '/Users/a999-342/repo/head_first_python/venv', 'XPC_FLAGS': '0x0', 'PYTHONUNBUFFERED': '1', '__CF_USER_TEXT_ENCODING': '0x1F5:0x1:0xE', 'Apple_PubSub_Socket_Render': '/private/tmp/com.apple.launchd.7EUhvG2d5C/Render', 'LOGNAME': 'a999-342', 'LC_CTYPE': 'ja_JP.UTF-8', 'XPC_SERVICE_NAME': 'com.jetbrains.pycharm.13040', 'PWD': '/Users/a999-342/repo/head_first_python', 'PYCHARM_HOSTED': '1', 'HOME': '/Users/a999-342', 'PYCHARM_MATPLOTLIB_PORT': '58204', '__PYVENV_LAUNCHER__': '/Users/a999-342/repo/head_first_python/venv/bin/python', 'JPY_PARENT_PID': '48126', 'TERM': 'xterm-color', 'CLICOLOR': '1', 'PAGER': 'cat', 'GIT_PAGER': 'cat', 'MPLBACKEND': 'module://ipykernel.pylab.backend_inline'})"
      ]
     },
     "execution_count": 6,
     "metadata": {},
     "output_type": "execute_result"
    }
   ],
   "source": [
    "import os\n",
    "os.environ\n"
   ]
  },
  {
   "cell_type": "code",
   "execution_count": 16,
   "metadata": {
    "collapsed": false
   },
   "outputs": [
    {
     "name": "stdout",
     "output_type": "stream",
     "text": [
      "分の値は奇数\n"
     ]
    },
    {
     "name": "stdout",
     "output_type": "stream",
     "text": [
      "分の値は奇数\n"
     ]
    },
    {
     "name": "stdout",
     "output_type": "stream",
     "text": [
      "分の値は奇数\n"
     ]
    },
    {
     "name": "stdout",
     "output_type": "stream",
     "text": [
      "分の値は奇数\n"
     ]
    },
    {
     "name": "stdout",
     "output_type": "stream",
     "text": [
      "分の値は奇数\n"
     ]
    }
   ],
   "source": [
    "from datetime import datetime\n",
    "import time\n",
    "import random\n",
    "\n",
    "odds = [ i for i in range(60) if i % 2 == 1]\n",
    "\n",
    "for i in range(5):\n",
    "    right_this_minute = datetime.today().minute\n",
    "    \n",
    "    if right_this_minute in odds:\n",
    "        print(\"分の値は奇数\")\n",
    "    else:\n",
    "        print(\"分の値は奇数ではない\")\n",
    "    waittime = random.randint(1, 10)\n",
    "    time.sleep(waittime)\n"
   ]
  },
  {
   "cell_type": "code",
   "execution_count": null,
   "metadata": {},
   "outputs": [
    {
     "name": "stdout",
     "output_type": "stream",
     "text": [
      "99 bottles of beer on the wall.\n99 bottles of beer.\nTake one down.\nPass it around.\n98 bottles of beer on the wall.\n\n98 bottles of beer on the wall.\n98 bottles of beer.\nTake one down.\nPass it around.\n97 bottles of beer on the wall.\n\n97 bottles of beer on the wall.\n97 bottles of beer.\nTake one down.\nPass it around.\n96 bottles of beer on the wall.\n\n96 bottles of beer on the wall.\n96 bottles of beer.\nTake one down.\nPass it around.\n95 bottles of beer on the wall.\n\n95 bottles of beer on the wall.\n95 bottles of beer.\nTake one down.\nPass it around.\n94 bottles of beer on the wall.\n\n94 bottles of beer on the wall.\n94 bottles of beer.\nTake one down.\nPass it around.\n93 bottles of beer on the wall.\n\n93 bottles of beer on the wall.\n93 bottles of beer.\nTake one down.\nPass it around.\n92 bottles of beer on the wall.\n\n92 bottles of beer on the wall.\n92 bottles of beer.\nTake one down.\nPass it around.\n91 bottles of beer on the wall.\n\n91 bottles of beer on the wall.\n91 bottles of beer.\nTake one down.\nPass it around.\n90 bottles of beer on the wall.\n\n90 bottles of beer on the wall.\n90 bottles of beer.\nTake one down.\nPass it around.\n89 bottles of beer on the wall.\n\n89 bottles of beer on the wall.\n89 bottles of beer.\nTake one down.\nPass it around.\n88 bottles of beer on the wall.\n\n88 bottles of beer on the wall.\n88 bottles of beer.\nTake one down.\nPass it around.\n87 bottles of beer on the wall.\n\n87 bottles of beer on the wall.\n87 bottles of beer.\nTake one down.\nPass it around.\n86 bottles of beer on the wall.\n\n86 bottles of beer on the wall.\n86 bottles of beer.\nTake one down.\nPass it around.\n85 bottles of beer on the wall.\n\n85 bottles of beer on the wall.\n85 bottles of beer.\nTake one down.\nPass it around.\n84 bottles of beer on the wall.\n\n84 bottles of beer on the wall.\n84 bottles of beer.\nTake one down.\nPass it around.\n83 bottles of beer on the wall.\n\n83 bottles of beer on the wall.\n83 bottles of beer.\nTake one down.\nPass it around.\n82 bottles of beer on the wall.\n\n82 bottles of beer on the wall.\n82 bottles of beer.\nTake one down.\nPass it around.\n81 bottles of beer on the wall.\n\n81 bottles of beer on the wall.\n81 bottles of beer.\nTake one down.\nPass it around.\n80 bottles of beer on the wall.\n\n80 bottles of beer on the wall.\n80 bottles of beer.\nTake one down.\nPass it around.\n79 bottles of beer on the wall.\n\n79 bottles of beer on the wall.\n79 bottles of beer.\nTake one down.\nPass it around.\n78 bottles of beer on the wall.\n\n78 bottles of beer on the wall.\n78 bottles of beer.\nTake one down.\nPass it around.\n77 bottles of beer on the wall.\n\n77 bottles of beer on the wall.\n77 bottles of beer.\nTake one down.\nPass it around.\n76 bottles of beer on the wall.\n\n76 bottles of beer on the wall.\n76 bottles of beer.\nTake one down.\nPass it around.\n75 bottles of beer on the wall.\n\n75 bottles of beer on the wall.\n75 bottles of beer.\nTake one down.\nPass it around.\n74 bottles of beer on the wall.\n\n74 bottles of beer on the wall.\n74 bottles of beer.\nTake one down.\nPass it around.\n73 bottles of beer on the wall.\n\n73 bottles of beer on the wall.\n73 bottles of beer.\nTake one down.\nPass it around.\n72 bottles of beer on the wall.\n\n72 bottles of beer on the wall.\n72 bottles of beer.\nTake one down.\nPass it around.\n71 bottles of beer on the wall.\n\n71 bottles of beer on the wall.\n71 bottles of beer.\nTake one down.\nPass it around.\n70 bottles of beer on the wall.\n\n70 bottles of beer on the wall.\n70 bottles of beer.\nTake one down.\nPass it around.\n69 bottles of beer on the wall.\n\n69 bottles of beer on the wall.\n69 bottles of beer.\nTake one down.\nPass it around.\n68 bottles of beer on the wall.\n\n68 bottles of beer on the wall.\n68 bottles of beer.\nTake one down.\nPass it around.\n67 bottles of beer on the wall.\n\n67 bottles of beer on the wall.\n67 bottles of beer.\nTake one down.\nPass it around.\n66 bottles of beer on the wall.\n\n66 bottles of beer on the wall.\n66 bottles of beer.\nTake one down.\nPass it around.\n65 bottles of beer on the wall.\n\n65 bottles of beer on the wall.\n65 bottles of beer.\nTake one down.\nPass it around.\n64 bottles of beer on the wall.\n\n64 bottles of beer on the wall.\n64 bottles of beer.\nTake one down.\nPass it around.\n63 bottles of beer on the wall.\n\n63 bottles of beer on the wall.\n63 bottles of beer.\nTake one down.\nPass it around.\n62 bottles of beer on the wall.\n\n62 bottles of beer on the wall.\n62 bottles of beer.\nTake one down.\nPass it around.\n61 bottles of beer on the wall.\n\n61 bottles of beer on the wall.\n61 bottles of beer.\nTake one down.\nPass it around.\n60 bottles of beer on the wall.\n\n60 bottles of beer on the wall.\n60 bottles of beer.\nTake one down.\nPass it around.\n59 bottles of beer on the wall.\n\n59 bottles of beer on the wall.\n59 bottles of beer.\nTake one down.\nPass it around.\n58 bottles of beer on the wall.\n\n58 bottles of beer on the wall.\n58 bottles of beer.\nTake one down.\nPass it around.\n57 bottles of beer on the wall.\n\n57 bottles of beer on the wall.\n57 bottles of beer.\nTake one down.\nPass it around.\n56 bottles of beer on the wall.\n\n56 bottles of beer on the wall.\n56 bottles of beer.\nTake one down.\nPass it around.\n55 bottles of beer on the wall.\n\n55 bottles of beer on the wall.\n55 bottles of beer.\nTake one down.\nPass it around.\n54 bottles of beer on the wall.\n\n54 bottles of beer on the wall.\n54 bottles of beer.\nTake one down.\nPass it around.\n53 bottles of beer on the wall.\n\n53 bottles of beer on the wall.\n53 bottles of beer.\nTake one down.\nPass it around.\n52 bottles of beer on the wall.\n\n52 bottles of beer on the wall.\n52 bottles of beer.\nTake one down.\nPass it around.\n51 bottles of beer on the wall.\n\n51 bottles of beer on the wall.\n51 bottles of beer.\nTake one down.\nPass it around.\n50 bottles of beer on the wall.\n\n50 bottles of beer on the wall.\n50 bottles of beer.\nTake one down.\nPass it around.\n49 bottles of beer on the wall.\n\n49 bottles of beer on the wall.\n49 bottles of beer.\nTake one down.\nPass it around.\n48 bottles of beer on the wall.\n\n48 bottles of beer on the wall.\n48 bottles of beer.\nTake one down.\nPass it around.\n47 bottles of beer on the wall.\n\n47 bottles of beer on the wall.\n47 bottles of beer.\nTake one down.\nPass it around.\n46 bottles of beer on the wall.\n\n46 bottles of beer on the wall.\n46 bottles of beer.\nTake one down.\nPass it around.\n45 bottles of beer on the wall.\n\n45 bottles of beer on the wall.\n45 bottles of beer.\nTake one down.\nPass it around.\n44 bottles of beer on the wall.\n\n44 bottles of beer on the wall.\n44 bottles of beer.\nTake one down.\nPass it around.\n43 bottles of beer on the wall.\n\n43 bottles of beer on the wall.\n43 bottles of beer.\nTake one down.\nPass it around.\n42 bottles of beer on the wall.\n\n42 bottles of beer on the wall.\n42 bottles of beer.\nTake one down.\nPass it around.\n41 bottles of beer on the wall.\n\n41 bottles of beer on the wall.\n41 bottles of beer.\nTake one down.\nPass it around.\n40 bottles of beer on the wall.\n\n40 bottles of beer on the wall.\n40 bottles of beer.\nTake one down.\nPass it around.\n39 bottles of beer on the wall.\n\n39 bottles of beer on the wall.\n39 bottles of beer.\nTake one down.\nPass it around.\n38 bottles of beer on the wall.\n\n38 bottles of beer on the wall.\n38 bottles of beer.\nTake one down.\nPass it around.\n37 bottles of beer on the wall.\n\n37 bottles of beer on the wall.\n37 bottles of beer.\nTake one down.\nPass it around.\n36 bottles of beer on the wall.\n\n36 bottles of beer on the wall.\n36 bottles of beer.\nTake one down.\nPass it around.\n35 bottles of beer on the wall.\n\n35 bottles of beer on the wall.\n35 bottles of beer.\nTake one down.\nPass it around.\n34 bottles of beer on the wall.\n\n34 bottles of beer on the wall.\n34 bottles of beer.\nTake one down.\nPass it around.\n33 bottles of beer on the wall.\n\n33 bottles of beer on the wall.\n33 bottles of beer.\nTake one down.\nPass it around.\n32 bottles of beer on the wall.\n\n32 bottles of beer on the wall.\n32 bottles of beer.\nTake one down.\nPass it around.\n31 bottles of beer on the wall.\n\n31 bottles of beer on the wall.\n31 bottles of beer.\nTake one down.\nPass it around.\n30 bottles of beer on the wall.\n\n30 bottles of beer on the wall.\n30 bottles of beer.\nTake one down.\nPass it around.\n29 bottles of beer on the wall.\n\n29 bottles of beer on the wall.\n29 bottles of beer.\nTake one down.\nPass it around.\n28 bottles of beer on the wall.\n\n28 bottles of beer on the wall.\n28 bottles of beer.\nTake one down.\nPass it around.\n27 bottles of beer on the wall.\n\n27 bottles of beer on the wall.\n27 bottles of beer.\nTake one down.\nPass it around.\n26 bottles of beer on the wall.\n\n26 bottles of beer on the wall.\n26 bottles of beer.\nTake one down.\nPass it around.\n25 bottles of beer on the wall.\n\n25 bottles of beer on the wall.\n25 bottles of beer.\nTake one down.\nPass it around.\n24 bottles of beer on the wall.\n\n24 bottles of beer on the wall.\n24 bottles of beer.\nTake one down.\nPass it around.\n23 bottles of beer on the wall.\n\n23 bottles of beer on the wall.\n23 bottles of beer.\nTake one down.\nPass it around.\n22 bottles of beer on the wall.\n\n22 bottles of beer on the wall.\n22 bottles of beer.\nTake one down.\nPass it around.\n21 bottles of beer on the wall.\n\n21 bottles of beer on the wall.\n21 bottles of beer.\nTake one down.\nPass it around.\n20 bottles of beer on the wall.\n\n20 bottles of beer on the wall.\n20 bottles of beer.\nTake one down.\nPass it around.\n19 bottles of beer on the wall.\n\n19 bottles of beer on the wall.\n19 bottles of beer.\nTake one down.\nPass it around.\n18 bottles of beer on the wall.\n\n18 bottles of beer on the wall.\n18 bottles of beer.\nTake one down.\nPass it around.\n17 bottles of beer on the wall.\n\n17 bottles of beer on the wall.\n17 bottles of beer.\nTake one down.\nPass it around.\n16 bottles of beer on the wall.\n\n16 bottles of beer on the wall.\n16 bottles of beer.\nTake one down.\nPass it around.\n15 bottles of beer on the wall.\n\n15 bottles of beer on the wall.\n15 bottles of beer.\nTake one down.\nPass it around.\n14 bottles of beer on the wall.\n\n14 bottles of beer on the wall.\n14 bottles of beer.\nTake one down.\nPass it around.\n13 bottles of beer on the wall.\n\n13 bottles of beer on the wall.\n13 bottles of beer.\nTake one down.\nPass it around.\n12 bottles of beer on the wall.\n\n12 bottles of beer on the wall.\n12 bottles of beer.\nTake one down.\nPass it around.\n11 bottles of beer on the wall.\n\n11 bottles of beer on the wall.\n11 bottles of beer.\nTake one down.\nPass it around.\n10 bottles of beer on the wall.\n\n10 bottles of beer on the wall.\n10 bottles of beer.\nTake one down.\nPass it around.\n9 bottles of beer on the wall.\n\n9 bottles of beer on the wall.\n9 bottles of beer.\nTake one down.\nPass it around.\n8 bottles of beer on the wall.\n\n8 bottles of beer on the wall.\n8 bottles of beer.\nTake one down.\nPass it around.\n7 bottles of beer on the wall.\n\n7 bottles of beer on the wall.\n7 bottles of beer.\nTake one down.\nPass it around.\n6 bottles of beer on the wall.\n\n6 bottles of beer on the wall.\n6 bottles of beer.\nTake one down.\nPass it around.\n5 bottles of beer on the wall.\n\n5 bottles of beer on the wall.\n5 bottles of beer.\nTake one down.\nPass it around.\n4 bottles of beer on the wall.\n\n4 bottles of beer on the wall.\n4 bottles of beer.\nTake one down.\nPass it around.\n3 bottles of beer on the wall.\n\n3 bottles of beer on the wall.\n3 bottles of beer.\nTake one down.\nPass it around.\n2 bottles of beer on the wall.\n\n2 bottles of beer on the wall.\n2 bottles of beer.\nTake one down.\nPass it around.\n1 bottle of beer on the wall.\n\n1 bottle of beer on the wall.\n1 bottle of beer.\nTake one down.\nPass it around.\nNo more bottles of beer on the wall.\n\n"
     ]
    }
   ],
   "source": [
    "word = \"bottles\"\n",
    "for beer_num in range(99, 0 , -1):\n",
    "    print(beer_num, word, \"of beer on the wall.\")\n",
    "    print(beer_num, word, \"of beer.\")\n",
    "    print(\"Take one down.\")\n",
    "    print(\"Pass it around.\")\n",
    "    if beer_num == 1:\n",
    "        print(\"No more bottles of beer on the wall.\")\n",
    "    else:\n",
    "        new_num = beer_num - 1\n",
    "        if new_num == 1:\n",
    "            word = \"bottle\"\n",
    "        print(new_num, word, \"of beer on the wall.\")\n",
    "    print()"
   ]
  },
  {
   "cell_type": "code",
   "execution_count": 1,
   "metadata": {},
   "outputs": [
    {
     "name": "stdout",
     "output_type": "stream",
     "text": [
      "i\ni\na\n"
     ]
    }
   ],
   "source": [
    "vowel = ['a', 'e', 'i', 'o', 'u']\n",
    "word = 'Milliways'\n",
    "for letter in word:\n",
    "    if letter in vowel:\n",
    "        print(letter)\n"
   ]
  },
  {
   "cell_type": "code",
   "execution_count": 2,
   "metadata": {},
   "outputs": [
    {
     "name": "stdout",
     "output_type": "stream",
     "text": [
      "i\na\n"
     ]
    }
   ],
   "source": [
    "vowels = ['a', 'e', 'i', 'o', 'u']\n",
    "word = 'Milliways'\n",
    "found = []\n",
    "for letter in word:\n",
    "    if letter in vowels:\n",
    "        if letter not in found:\n",
    "            found.append(letter)\n",
    "for vowel in found:\n",
    "    print(vowel)"
   ]
  },
  {
   "cell_type": "code",
   "execution_count": 4,
   "metadata": {},
   "outputs": [
    {
     "ename": "StdinNotImplementedError",
     "evalue": "raw_input was called, but this frontend does not support input requests.",
     "traceback": [
      "\u001b[0;31m---------------------------------------------------------------------------\u001b[0m",
      "\u001b[0;31mStdinNotImplementedError\u001b[0m                  Traceback (most recent call last)",
      "\u001b[0;32m<ipython-input-4-f2419847b86f>\u001b[0m in \u001b[0;36m<module>\u001b[0;34m\u001b[0m\n\u001b[1;32m      1\u001b[0m \u001b[0mvowels\u001b[0m \u001b[0;34m=\u001b[0m \u001b[0;34m[\u001b[0m\u001b[0;34m'a'\u001b[0m\u001b[0;34m,\u001b[0m \u001b[0;34m'e'\u001b[0m\u001b[0;34m,\u001b[0m \u001b[0;34m'i'\u001b[0m\u001b[0;34m,\u001b[0m \u001b[0;34m'o'\u001b[0m\u001b[0;34m,\u001b[0m \u001b[0;34m'u'\u001b[0m\u001b[0;34m]\u001b[0m\u001b[0;34m\u001b[0m\u001b[0m\n\u001b[0;32m----> 2\u001b[0;31m \u001b[0mword\u001b[0m \u001b[0;34m=\u001b[0m \u001b[0minput\u001b[0m\u001b[0;34m(\u001b[0m\u001b[0;34m\"単語を入力してください\"\u001b[0m\u001b[0;34m)\u001b[0m\u001b[0;34m\u001b[0m\u001b[0m\n\u001b[0m\u001b[1;32m      3\u001b[0m \u001b[0mfound\u001b[0m \u001b[0;34m=\u001b[0m \u001b[0;34m[\u001b[0m\u001b[0;34m]\u001b[0m\u001b[0;34m\u001b[0m\u001b[0m\n\u001b[1;32m      4\u001b[0m \u001b[0;32mfor\u001b[0m \u001b[0mletter\u001b[0m \u001b[0;32min\u001b[0m \u001b[0mword\u001b[0m\u001b[0;34m:\u001b[0m\u001b[0;34m\u001b[0m\u001b[0m\n\u001b[1;32m      5\u001b[0m     \u001b[0;32mif\u001b[0m \u001b[0mletter\u001b[0m \u001b[0;32min\u001b[0m \u001b[0mvowels\u001b[0m\u001b[0;34m:\u001b[0m\u001b[0;34m\u001b[0m\u001b[0m\n",
      "\u001b[0;32m~/.pyenv/versions/head_first_python/lib/python3.7/site-packages/ipykernel/kernelbase.py\u001b[0m in \u001b[0;36mraw_input\u001b[0;34m(self, prompt)\u001b[0m\n\u001b[1;32m    846\u001b[0m         \u001b[0;32mif\u001b[0m \u001b[0;32mnot\u001b[0m \u001b[0mself\u001b[0m\u001b[0;34m.\u001b[0m\u001b[0m_allow_stdin\u001b[0m\u001b[0;34m:\u001b[0m\u001b[0;34m\u001b[0m\u001b[0m\n\u001b[1;32m    847\u001b[0m             raise StdinNotImplementedError(\n\u001b[0;32m--> 848\u001b[0;31m                 \u001b[0;34m\"raw_input was called, but this frontend does not support input requests.\"\u001b[0m\u001b[0;34m\u001b[0m\u001b[0m\n\u001b[0m\u001b[1;32m    849\u001b[0m             )\n\u001b[1;32m    850\u001b[0m         return self._input_request(str(prompt),\n",
      "\u001b[0;31mStdinNotImplementedError\u001b[0m: raw_input was called, but this frontend does not support input requests."
     ],
     "output_type": "error"
    }
   ],
   "source": [
    "vowels = ['a', 'e', 'i', 'o', 'u']\n",
    "word = input(\"単語を入力してください\")\n",
    "found = []\n",
    "for letter in word:\n",
    "    if letter in vowels:\n",
    "        if letter not in found:\n",
    "            found.append(letter)\n",
    "for vowel in found:\n",
    "    print(vowel)"
   ]
  },
  {
   "cell_type": "code",
   "execution_count": 18,
   "metadata": {},
   "outputs": [
    {
     "name": "stdout",
     "output_type": "stream",
     "text": [
      "Don't panic!\n['D', 'o', 'n', \"'\", 't', ' ', 'p', 'a', 'n', 'i', 'c', '!']\n['o', 'n', ' ', 't', 'a', 'p']\non tap\n"
     ]
    }
   ],
   "source": [
    "phrase = \"Don't panic!\"\n",
    "plist = list(phrase)\n",
    "print(phrase)\n",
    "print(plist)\n",
    "\n",
    "plist.remove('D')\n",
    "plist.remove('\\'')\n",
    "plist.remove('n')\n",
    "plist.remove('i')\n",
    "plist.remove('c')\n",
    "plist.remove('!')\n",
    "plist.insert(1, plist.pop(-1))\n",
    "plist.insert(2, plist.pop(3))\n",
    "plist.insert(4, plist.pop(-1))\n",
    "\n",
    "\n",
    "new_phrase = ''.join(plist)\n",
    "print(plist)\n",
    "print(new_phrase)"
   ]
  },
  {
   "cell_type": "code",
   "execution_count": 27,
   "metadata": {},
   "outputs": [
    {
     "name": "stdout",
     "output_type": "stream",
     "text": [
      "Don't panic!\n['D', 'o', 'n', \"'\", 't', ' ', 'p', 'a', 'n', 'i', 'c', '!']\n['o', 'n', ' ', 't', 'a', 'p']\non tap\n"
     ]
    }
   ],
   "source": [
    "phrase = \"Don't panic!\"\n",
    "plist = list(phrase)\n",
    "print(phrase)\n",
    "print(plist)\n",
    "\n",
    "for _ in range(4):\n",
    "    plist.pop()\n",
    "plist.pop(0)\n",
    "plist.remove(\"'\")\n",
    "plist.extend([plist.pop(), plist.pop()])\n",
    "plist.insert(2, plist.pop(3))\n",
    "\n",
    "new_phrase = ''.join(plist)\n",
    "print(plist)\n",
    "print(new_phrase)"
   ]
  },
  {
   "cell_type": "code",
   "execution_count": 60,
   "metadata": {},
   "outputs": [
    {
     "name": "stdout",
     "output_type": "stream",
     "text": [
      "Don't panic!\n['D', 'o', 'n', \"'\", 't', ' ', 'p', 'a', 'n', 'i', 'c', '!']\n['D', 'o', 'n', \"'\", 't', ' ', 'p', 'a', 'n', 'i', 'c', '!']\non tap\n"
     ]
    }
   ],
   "source": [
    "phrase = \"Don't panic!\"\n",
    "plist = list(phrase)\n",
    "print(phrase)\n",
    "print(plist)\n",
    "\n",
    "new_phrase = ''.join(plist[1:3])\n",
    "new_phrase = new_phrase + ''.join(plist[5:3:-1])\n",
    "new_phrase = new_phrase + ''.join(plist[7:5:-1])\n",
    "\n",
    "print(plist)\n",
    "print(new_phrase)\n",
    "\n"
   ]
  },
  {
   "cell_type": "code",
   "execution_count": 58,
   "metadata": {},
   "outputs": [
    {
     "name": "stdout",
     "output_type": "stream",
     "text": [
      "Help on method_descriptor:\n\njoin(self, iterable, /)\n    Concatenate any number of strings.\n    \n    The string whose method is called is inserted in between each given string.\n    The result is returned as a new string.\n    \n    Example: '.'.join(['ab', 'pq', 'rs']) -> 'ab.pq.rs'\n\n"
     ]
    }
   ],
   "source": [
    "help(str.join)"
   ]
  },
  {
   "cell_type": "code",
   "execution_count": 61,
   "metadata": {},
   "outputs": [
    {
     "name": "stdout",
     "output_type": "stream",
     "text": [
      "\t M\n\t a\n\t r\n\t v\n\t i\n\t n\n"
     ]
    }
   ],
   "source": [
    "paranoid_android = 'Marvin'\n",
    "letters = list(paranoid_android)\n",
    "for char in letters:\n",
    "    print('\\t', char)"
   ]
  },
  {
   "cell_type": "code",
   "execution_count": 62,
   "metadata": {},
   "outputs": [
    {
     "name": "stdout",
     "output_type": "stream",
     "text": [
      "\t M\n\t a\n\t r\n\t v\n\t i\n\t n\n\n\t\t A\n\t\t n\n\t\t d\n\t\t r\n\t\t o\n\t\t i\n\t\t d\n\n\t\t\t P\n\t\t\t a\n\t\t\t r\n\t\t\t a\n\t\t\t n\n\t\t\t o\n\t\t\t i\n\t\t\t d\n"
     ]
    }
   ],
   "source": [
    "paranoid_android = 'Marvin, the Paranoid Android'\n",
    "letters = list(paranoid_android)\n",
    "for char in letters[:6]:\n",
    "    print('\\t', char)\n",
    "print()\n",
    "for char in letters[-7:]:\n",
    "    print('\\t'*2, char)\n",
    "print()\n",
    "for char in letters[12:20]:\n",
    "    print('\\t'*3, char)\n"
   ]
  },
  {
   "cell_type": "code",
   "execution_count": null,
   "metadata": {},
   "outputs": [],
   "source": []
  }
 ],
 "metadata": {
  "kernelspec": {
   "display_name": "Python 2",
   "language": "python",
   "name": "python2"
  },
  "language_info": {
   "codemirror_mode": {
    "name": "ipython",
    "version": 2
   },
   "file_extension": ".py",
   "mimetype": "text/x-python",
   "name": "python",
   "nbconvert_exporter": "python",
   "pygments_lexer": "ipython2",
   "version": "2.7.6"
  }
 },
 "nbformat": 4,
 "nbformat_minor": 0
}
